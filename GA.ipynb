{
 "cells": [
  {
   "cell_type": "markdown",
   "metadata": {},
   "source": [
    "Importing Libraries\n"
   ]
  },
  {
   "cell_type": "code",
   "execution_count": null,
   "metadata": {},
   "outputs": [],
   "source": [
    "import time\n",
    "import random\n",
    "import math\n",
    "import warnings\n",
    "import numpy as np\n",
    "import matplotlib.pyplot as plt\n"
   ]
  },
  {
   "cell_type": "markdown",
   "metadata": {},
   "source": [
    "traversal Function\n",
    "This function is a recursive helper function used for traversing through the genetic expression in a chromosome."
   ]
  },
  {
   "cell_type": "code",
   "execution_count": null,
   "metadata": {},
   "outputs": [],
   "source": [
    "def traversal(poz, chromosome):\n",
    "    if chromosome.gen[poz] in chromosome.terminal_set:\n",
    "        return poz + 1\n",
    "    elif chromosome.gen[poz] in chromosome.func_set[1]:\n",
    "        return traversal(poz + 1, chromosome)\n",
    "    else:\n",
    "        new_poz = traversal(poz + 1, chromosome)\n",
    "        return traversal(new_poz, chromosome)\n"
   ]
  },
  {
   "cell_type": "markdown",
   "metadata": {},
   "source": [
    "mutate Function\n",
    "The mutate function performs mutation on a chromosome by randomly modifying its genes based on certain conditions.\n"
   ]
  },
  {
   "cell_type": "code",
   "execution_count": null,
   "metadata": {},
   "outputs": [],
   "source": [
    "def mutate(chromosome):\n",
    "\n",
    "    poz = np.random.randint(len(chromosome.gen))\n",
    "    if chromosome.gen[poz] in chromosome.func_set[1] + chromosome.func_set[2]:\n",
    "        if chromosome.gen[poz] in chromosome.func_set[1]:\n",
    "            chromosome.gen[poz] = random.choice(chromosome.func_set[1])\n",
    "        else:\n",
    "            chromosome.gen[poz] = random.choice(chromosome.func_set[2])\n",
    "    else:\n",
    "        chromosome.gen[poz] = random.choice(chromosome.terminal_set)\n",
    "    return chromosome"
   ]
  },
  {
   "cell_type": "markdown",
   "metadata": {},
   "source": [
    "The selection function selects the best chromosome from a given population based on fitness values."
   ]
  },
  {
   "cell_type": "code",
   "execution_count": null,
   "metadata": {},
   "outputs": [],
   "source": [
    "def selection(population, num_sel):\n",
    "\n",
    "    sample = random.sample(population.list, num_sel)\n",
    "    best = sample[0]\n",
    "    for i in range(1, len(sample)):\n",
    "        if population.list[i].fitness < best.fitness:\n",
    "            best = population.list[i]\n",
    "    \n",
    "    return best"
   ]
  },
  {
   "cell_type": "markdown",
   "metadata": {},
   "source": [
    "The cross_over function combines genetic information from two parent chromosomes (mother and father) to create a new child chromosome.\n"
   ]
  },
  {
   "cell_type": "code",
   "execution_count": null,
   "metadata": {},
   "outputs": [],
   "source": [
    "def cross_over(mother, father, max_depth):\n",
    "    #combine 2 chromosome into new childs\n",
    "    child = Chromosome(mother.terminal_set, mother.func_set, mother.depth, None)\n",
    "    start_m = np.random.randint(len(mother.gen))\n",
    "    start_f = np.random.randint(len(father.gen))\n",
    "    end_m = traversal(start_m, mother)\n",
    "    end_f = traversal(start_f, father)\n",
    "    child.gen = mother.gen[:start_m] + father.gen[start_f : end_f] + mother.gen[end_m :]\n",
    "    if child.get_depth() > max_depth and random.random() > 0.2:\n",
    "        child = Chromosome(mother.terminal_set, mother.func_set, mother.depth)\n",
    "    return child"
   ]
  },
  {
   "cell_type": "markdown",
   "metadata": {},
   "source": [
    "These functions are used to find the best and worst chromosomes in a population based on their fitness values."
   ]
  },
  {
   "cell_type": "code",
   "execution_count": null,
   "metadata": {},
   "outputs": [],
   "source": [
    "def get_best(population):\n",
    "\n",
    "    best = population.list[0]\n",
    "    for i in range(1, len(population.list)):\n",
    "        if population.list[i].fitness < best.fitness:\n",
    "            best = population.list[i]\n",
    "    \n",
    "    return best\n",
    "\n",
    "def get_worst(population):\n",
    "\n",
    "    worst = population.list[0]\n",
    "    for i in range(1, len(population.list)):\n",
    "        if population.list[i].fitness > worst.fitness:\n",
    "            worst = population.list[i]\n",
    "    \n",
    "    return worst"
   ]
  },
  {
   "cell_type": "markdown",
   "metadata": {},
   "source": [
    "The replace_worst function replaces the worst chromosome in a population with a new one if the new chromosome is better in terms of fitness.\n"
   ]
  },
  {
   "cell_type": "code",
   "execution_count": null,
   "metadata": {},
   "outputs": [],
   "source": [
    "def replace_worst(population, chromosome):\n",
    "\n",
    "    worst = get_worst(population)\n",
    "    if chromosome.fitness < worst.fitness:\n",
    "        for i in range(len(population.list)):\n",
    "            if population.list[i].fitness == worst.fitness:\n",
    "                population.list[i] = chromosome\n",
    "                break\n",
    "    return population"
   ]
  },
  {
   "cell_type": "markdown",
   "metadata": {},
   "source": [
    "The roulette_selecion function performs roulette wheel selection on a population to choose a chromosome based on their fitness values.\n"
   ]
  },
  {
   "cell_type": "code",
   "execution_count": null,
   "metadata": {},
   "outputs": [],
   "source": [
    "def roulette_selecion(population):\n",
    "\n",
    "    fitness = [chrom.fitness for chrom in population.list]\n",
    "    order = [x for x in range(len(fitness))]\n",
    "    order = sorted(order, key=lambda x: fitness[x])\n",
    "    fs = [fitness[order[i]] for i in range(len(fitness))]\n",
    "    sum_fs = sum(fs)\n",
    "    max_fs = max(fs)\n",
    "    min_fs = min(fs)\n",
    "    p = random.random()*sum_fs\n",
    "    t = max_fs + min_fs\n",
    "    choosen = order[0]\n",
    "    for i in range(len(fitness)):\n",
    "        p -= (t - fitness[order[i]])\n",
    "        if p < 0:\n",
    "            choosen = order[i]\n",
    "            break\n",
    "    return population.list[choosen]"
   ]
  },
  {
   "cell_type": "markdown",
   "metadata": {},
   "source": [
    "The Population class is used to create and manage a population of chromosomes.\n"
   ]
  },
  {
   "cell_type": "code",
   "execution_count": null,
   "metadata": {},
   "outputs": [],
   "source": [
    "class Population:\n",
    "\n",
    "    def __init__(self, size, depth, max_depth, num_selected, functions, terminals):\n",
    "\n",
    "        self.size = size\n",
    "        self.num_selected = num_selected\n",
    "        self.max_depth = max_depth\n",
    "        self.list = self.create_population(self.size, functions, terminals, depth)\n",
    "        \n",
    "    def create_population(self, number, functions, terminals, depth):\n",
    "        population_list = []\n",
    "        for i in range(number):\n",
    "            if random.random() < 0.5:\n",
    "                population_list.append(Chromosome(terminals, functions, depth, 'full'))  \n",
    "            else:\n",
    "                population_list.append(Chromosome(terminals, functions, depth, 'grow'))\n",
    "        return population_list"
   ]
  },
  {
   "cell_type": "markdown",
   "metadata": {},
   "source": [
    "The Chromosome class represents an individual genetic expression (chromosome) and includes methods for generating genes, evaluating the expression, calculating fitness, and calculating depth."
   ]
  },
  {
   "cell_type": "code",
   "execution_count": null,
   "metadata": {},
   "outputs": [],
   "source": [
    "class Chromosome:\n",
    "\n",
    "    def __init__(self, terminals, functions, depth, method='full'):\n",
    "\n",
    "        self.gen = []\n",
    "        self.depth = depth\n",
    "        self.func_set = functions\n",
    "        self.terminal_set = terminals\n",
    "        self.fitness = None\n",
    "        if method == 'grow':\n",
    "            self.grow()\n",
    "        elif method == 'full':\n",
    "            self.full()\n",
    "\n",
    "    def grow(self, level = 0):\n",
    "        if level == self.depth:\n",
    "            self.gen.append(random.choice(self.terminal_set))\n",
    "        else:\n",
    "            if random.random() > 0.3:\n",
    "                val = random.choice(self.func_set[2] + self.func_set[1])\n",
    "                if val in self.func_set[2]:\n",
    "                    self.gen.append(val)\n",
    "                    self.grow(level + 1)\n",
    "                    self.grow(level + 1)\n",
    "                else:\n",
    "                    self.gen.append(val)\n",
    "                    self.grow(level + 1)\n",
    "            else:\n",
    "                val = random.choice(self.terminal_set)\n",
    "                self.gen.append(val)\n",
    "\n",
    "    def full(self, level = 0):\n",
    "\n",
    "        if level == self.depth:\n",
    "            self.gen.append(random.choice(self.terminal_set))\n",
    "        else:\n",
    "            val = random.choice(self.func_set[1] + self.func_set[2])\n",
    "            if val in self.func_set[2]:\n",
    "                self.gen.append(random.choice(self.func_set[2]))\n",
    "                self.full(level + 1)\n",
    "                self.full(level + 1)\n",
    "            else:\n",
    "                self.gen.append(random.choice(self.func_set[1]))\n",
    "                self.full(level + 1)\n",
    "        \n",
    "        \n",
    "    def eval(self, input, poz = 0):\n",
    "      \n",
    "        #Function to evaluate current chromosome with given input\n",
    "        if self.gen[poz] in self.terminal_set:\n",
    "            return input[int(self.gen[poz][1:])], poz\n",
    "        elif self.gen[poz] in self.func_set[2]:\n",
    "            poz_op = poz\n",
    "            left, poz = self.eval(input, poz + 1)\n",
    "            right, poz = self.eval(input, poz + 1)\n",
    "            if self.gen[poz_op] == '+':\n",
    "                return left + right, poz\n",
    "            elif self.gen[poz_op] == '-':\n",
    "                return left - right, poz\n",
    "            elif self.gen[poz_op] == '^':\n",
    "                return left ** right, poz\n",
    "            elif self.gen[poz_op] == '/':\n",
    "                return left / right, poz\n",
    "            elif self.gen[poz_op] == '*':\n",
    "                return left * right, poz\n",
    "        else:\n",
    "            poz_op = poz\n",
    "            left, poz = self.eval(input, poz + 1)\n",
    "            if self.gen[poz_op] == 'sin':\n",
    "                return np.sin(left), poz\n",
    "            elif self.gen[poz_op] == 'cos':\n",
    "                return np.cos(left), poz\n",
    "            elif self.gen[poz_op] == 'abs':\n",
    "                return abs(left), poz\n",
    "            elif self.gen[poz_op] == 'sqrt':\n",
    "                return np.sqrt(left), poz\n",
    "            elif self.gen[poz_op] == 'ln':\n",
    "                return np.log(left), poz\n",
    "            elif self.gen[poz_op] == 'tg':\n",
    "                return np.tan(left), poz\n",
    "            elif self.gen[poz_op] == 'ctg':\n",
    "                return 1/np.tan(left), poz\n",
    "\n",
    "    def evaluate_arg(self, input):\n",
    "        return self.eval(input)[0]\n",
    "\n",
    "    def calculate_fitness(self, inputs, outputs):\n",
    "        diff = 0\n",
    "        for i in range(len(inputs)):\n",
    "            try:\n",
    "                diff += (self.eval(inputs[i])[0] - outputs[i][0])**2\n",
    "            except RuntimeWarning:\n",
    "                self.gen = []\n",
    "                if random.random() > 0.5:\n",
    "                    self.grow()\n",
    "                else:\n",
    "                    self.full()\n",
    "                self.calculate_fitness(inputs, outputs)\n",
    "        \n",
    "        if len(inputs) == 0:\n",
    "            return 1e9\n",
    "        self.fitness = diff/(len(inputs))\n",
    "        return self.fitness\n",
    "\n",
    "    def __get_depth_aux(self, poz = 0):\n",
    "\n",
    "        elem = self.gen[poz]\n",
    "        if elem in self.func_set[2]:\n",
    "            left, poz = self.__get_depth_aux(poz + 1)\n",
    "            right, poz = self.__get_depth_aux(poz)\n",
    "\n",
    "            return 1 + max(left, right), poz\n",
    "        elif elem in self.func_set[1]:\n",
    "            left, poz = self.__get_depth_aux(poz + 1)\n",
    "            return left + 1, poz\n",
    "        else:\n",
    "            return 1, poz + 1\n",
    "\n",
    "    def get_depth(self):\n",
    "        return self.__get_depth_aux()[0] - 1"
   ]
  },
  {
   "cell_type": "markdown",
   "metadata": {},
   "source": [
    "The Algorithm class is responsible for managing the genetic algorithm, including training the population and evolving chromosomes.\n"
   ]
  },
  {
   "cell_type": "code",
   "execution_count": null,
   "metadata": {},
   "outputs": [],
   "source": [
    "class Algorithm:\n",
    "\n",
    "    def __init__(self, population, iterations, inputs, outputs, feedback = 500):\n",
    "\n",
    "        self.population = population\n",
    "        self.iterations = iterations\n",
    "        self.inputs = inputs\n",
    "        self.outputs = outputs\n",
    "        self.epoch_feedback = feedback\n",
    "    \n",
    "    def __one_step(self):\n",
    "\n",
    "        # mother = selection(self.population, self.population.num_selected)\n",
    "        # father = selection(self.population, self.population.num_selected)\n",
    "        mother = roulette_selecion(self.population)\n",
    "        father = roulette_selecion(self.population)\n",
    "        child = cross_over(mother, father, self.population.max_depth)\n",
    "        child = mutate(child)\n",
    "        child.calculate_fitness(self.inputs, self.outputs)\n",
    "        self.population = replace_worst(self.population, child)\n",
    "\n",
    "    def train(self):\n",
    "        for i in range(len(self.population.list)):\n",
    "            self.population.list[i].calculate_fitness(self.inputs, self.outputs)\n",
    "        for i in range(self.iterations):\n",
    "            if i % self.epoch_feedback == 0:\n",
    "                best_so_far = get_best(self.population)\n",
    "                print(\"Predicted function: {0}\".format(best_so_far.gen))\n",
    "                print(\"Fitness: {0}\".format(best_so_far.fitness))\n",
    "            self.__one_step()\n",
    "        return get_best(self.population)"
   ]
  },
  {
   "cell_type": "markdown",
   "metadata": {},
   "source": [
    "Main Part"
   ]
  },
  {
   "cell_type": "code",
   "execution_count": null,
   "metadata": {},
   "outputs": [],
   "source": [
    "VAR_MAX_SIZE = 1\n",
    "MAX_DEPTH = 15\n",
    "Terminals = ['x'+str(i) for i in range(VAR_MAX_SIZE)]\n",
    "Functions = {1: ['sin','cos','ln','tg','sqrt'], 2:['-', '+', '*', '/','^']}\n",
    "\n",
    "# original Function to be predicted:\n",
    "def f(x):\n",
    "    return -(x**3)\n",
    "\n",
    "# retrieve 1000 inputs and outputs of original function \n",
    "X = [[x] for x in np.arange(0, 10, 0.01)]\n",
    "y = [[f(x[0])] for x in X]\n",
    "\n",
    "start_time = time.time()\n",
    "pop = Population(8000, 1, MAX_DEPTH, 800, Functions, Terminals)\n",
    "algorithm = Algorithm(pop, 8000, X, y, feedback=500)\n",
    "Optimal = algorithm.train()\n",
    "preorder_res = Optimal.gen;\n",
    "print(\"preorder traverse of predicted function: \")\n",
    "print(preorder_res);\n",
    "y_pred = [[Optimal.evaluate_arg(x)] for x in X]\n",
    "\n",
    "print(\"--- %s ExecutionSeconds ---\" % (time.time() - start_time))\n",
    "plt.plot(X, y_pred, color='r', dashes=[7, 2], label='Predicted')\n",
    "plt.plot(X, y, color='b', dashes=[7, 3], label='Expected')\n",
    "plt.show()"
   ]
  }
 ],
 "metadata": {
  "language_info": {
   "name": "python"
  }
 },
 "nbformat": 4,
 "nbformat_minor": 2
}
